{
 "cells": [
  {
   "cell_type": "markdown",
   "metadata": {},
   "source": [
    "### D&D Bestiary Analysis\n",
    "\n",
    "For the purpose of fun and practice we are going to answer some questions regarding the Dungeons & Dragons' monsters:\n",
    "\n",
    "- Wisdom VS Intelligence: Good VS Evil?\n",
    "\n",
    "  Is it more likely to be intelligent when you are evil, or wise?"
   ]
  },
  {
   "cell_type": "code",
   "execution_count": 2,
   "metadata": {},
   "outputs": [
    {
     "name": "stdout",
     "output_type": "stream",
     "text": [
      "Collecting squarify\n",
      "  Using cached squarify-0.4.3-py3-none-any.whl (4.3 kB)\n",
      "Installing collected packages: squarify\n",
      "Successfully installed squarify-0.4.3\n",
      "Note: you may need to restart the kernel to use updated packages.\n"
     ]
    }
   ],
   "source": [
    "pip install squarify"
   ]
  },
  {
   "cell_type": "code",
   "execution_count": 1,
   "metadata": {},
   "outputs": [],
   "source": [
    "import numpy as np\n",
    "import os\n",
    "import re\n",
    "import pandas as pd\n",
    "import seaborn as sns\n",
    "from datetime import datetime\n",
    "import squarify\n",
    "import matplotlib.pyplot as plt"
   ]
  },
  {
   "cell_type": "markdown",
   "metadata": {},
   "source": [
    "***\n",
    "\n",
    "This is our DataFrame:"
   ]
  },
  {
   "cell_type": "code",
   "execution_count": 2,
   "metadata": {},
   "outputs": [],
   "source": [
    "df = pd.read_csv(\"monsters.csv\")"
   ]
  },
  {
   "cell_type": "code",
   "execution_count": 3,
   "metadata": {},
   "outputs": [
    {
     "data": {
      "text/html": [
       "<div>\n",
       "<style scoped>\n",
       "    .dataframe tbody tr th:only-of-type {\n",
       "        vertical-align: middle;\n",
       "    }\n",
       "\n",
       "    .dataframe tbody tr th {\n",
       "        vertical-align: top;\n",
       "    }\n",
       "\n",
       "    .dataframe thead th {\n",
       "        text-align: right;\n",
       "    }\n",
       "</style>\n",
       "<table border=\"1\" class=\"dataframe\">\n",
       "  <thead>\n",
       "    <tr style=\"text-align: right;\">\n",
       "      <th></th>\n",
       "      <th>name</th>\n",
       "      <th>url</th>\n",
       "      <th>cr</th>\n",
       "      <th>type</th>\n",
       "      <th>size</th>\n",
       "      <th>ac</th>\n",
       "      <th>hp</th>\n",
       "      <th>speed</th>\n",
       "      <th>align</th>\n",
       "      <th>legendary</th>\n",
       "      <th>source</th>\n",
       "      <th>str</th>\n",
       "      <th>dex</th>\n",
       "      <th>con</th>\n",
       "      <th>int</th>\n",
       "      <th>wis</th>\n",
       "      <th>cha</th>\n",
       "    </tr>\n",
       "  </thead>\n",
       "  <tbody>\n",
       "    <tr>\n",
       "      <th>0</th>\n",
       "      <td>aarakocra</td>\n",
       "      <td>https://www.aidedd.org/dnd/monstres.php?vo=aar...</td>\n",
       "      <td>1/4</td>\n",
       "      <td>humanoid (aarakocra)</td>\n",
       "      <td>Medium</td>\n",
       "      <td>12</td>\n",
       "      <td>13</td>\n",
       "      <td>fly</td>\n",
       "      <td>neutral good</td>\n",
       "      <td>NaN</td>\n",
       "      <td>Monster Manual (BR)</td>\n",
       "      <td>10.0</td>\n",
       "      <td>14.0</td>\n",
       "      <td>10.0</td>\n",
       "      <td>11.0</td>\n",
       "      <td>12.0</td>\n",
       "      <td>11.0</td>\n",
       "    </tr>\n",
       "    <tr>\n",
       "      <th>1</th>\n",
       "      <td>abjurer</td>\n",
       "      <td>NaN</td>\n",
       "      <td>9</td>\n",
       "      <td>humanoid (any race)</td>\n",
       "      <td>Medium</td>\n",
       "      <td>12</td>\n",
       "      <td>84</td>\n",
       "      <td>NaN</td>\n",
       "      <td>any alignment</td>\n",
       "      <td>NaN</td>\n",
       "      <td>Volo's Guide to Monsters</td>\n",
       "      <td>NaN</td>\n",
       "      <td>NaN</td>\n",
       "      <td>NaN</td>\n",
       "      <td>NaN</td>\n",
       "      <td>NaN</td>\n",
       "      <td>NaN</td>\n",
       "    </tr>\n",
       "    <tr>\n",
       "      <th>2</th>\n",
       "      <td>aboleth</td>\n",
       "      <td>https://www.aidedd.org/dnd/monstres.php?vo=abo...</td>\n",
       "      <td>10</td>\n",
       "      <td>aberration</td>\n",
       "      <td>Large</td>\n",
       "      <td>17</td>\n",
       "      <td>135</td>\n",
       "      <td>swim</td>\n",
       "      <td>lawful evil</td>\n",
       "      <td>Legendary</td>\n",
       "      <td>Monster Manual (SRD)</td>\n",
       "      <td>21.0</td>\n",
       "      <td>9.0</td>\n",
       "      <td>15.0</td>\n",
       "      <td>18.0</td>\n",
       "      <td>15.0</td>\n",
       "      <td>18.0</td>\n",
       "    </tr>\n",
       "    <tr>\n",
       "      <th>3</th>\n",
       "      <td>abominable-yeti</td>\n",
       "      <td>NaN</td>\n",
       "      <td>9</td>\n",
       "      <td>monstrosity</td>\n",
       "      <td>Huge</td>\n",
       "      <td>15</td>\n",
       "      <td>137</td>\n",
       "      <td>NaN</td>\n",
       "      <td>chaotic evil</td>\n",
       "      <td>NaN</td>\n",
       "      <td>Monster Manual</td>\n",
       "      <td>NaN</td>\n",
       "      <td>NaN</td>\n",
       "      <td>NaN</td>\n",
       "      <td>NaN</td>\n",
       "      <td>NaN</td>\n",
       "      <td>NaN</td>\n",
       "    </tr>\n",
       "    <tr>\n",
       "      <th>4</th>\n",
       "      <td>acererak</td>\n",
       "      <td>NaN</td>\n",
       "      <td>23</td>\n",
       "      <td>undead</td>\n",
       "      <td>Medium</td>\n",
       "      <td>21</td>\n",
       "      <td>285</td>\n",
       "      <td>NaN</td>\n",
       "      <td>neutral evil</td>\n",
       "      <td>NaN</td>\n",
       "      <td>Adventures (Tomb of Annihilation)</td>\n",
       "      <td>NaN</td>\n",
       "      <td>NaN</td>\n",
       "      <td>NaN</td>\n",
       "      <td>NaN</td>\n",
       "      <td>NaN</td>\n",
       "      <td>NaN</td>\n",
       "    </tr>\n",
       "  </tbody>\n",
       "</table>\n",
       "</div>"
      ],
      "text/plain": [
       "              name                                                url   cr  \\\n",
       "0        aarakocra  https://www.aidedd.org/dnd/monstres.php?vo=aar...  1/4   \n",
       "1          abjurer                                                NaN    9   \n",
       "2          aboleth  https://www.aidedd.org/dnd/monstres.php?vo=abo...   10   \n",
       "3  abominable-yeti                                                NaN    9   \n",
       "4         acererak                                                NaN   23   \n",
       "\n",
       "                   type    size  ac   hp speed          align  legendary  \\\n",
       "0  humanoid (aarakocra)  Medium  12   13   fly   neutral good        NaN   \n",
       "1   humanoid (any race)  Medium  12   84   NaN  any alignment        NaN   \n",
       "2            aberration   Large  17  135  swim    lawful evil  Legendary   \n",
       "3           monstrosity    Huge  15  137   NaN   chaotic evil        NaN   \n",
       "4                undead  Medium  21  285   NaN   neutral evil        NaN   \n",
       "\n",
       "                              source   str   dex   con   int   wis   cha  \n",
       "0                Monster Manual (BR)  10.0  14.0  10.0  11.0  12.0  11.0  \n",
       "1           Volo's Guide to Monsters   NaN   NaN   NaN   NaN   NaN   NaN  \n",
       "2               Monster Manual (SRD)  21.0   9.0  15.0  18.0  15.0  18.0  \n",
       "3                     Monster Manual   NaN   NaN   NaN   NaN   NaN   NaN  \n",
       "4  Adventures (Tomb of Annihilation)   NaN   NaN   NaN   NaN   NaN   NaN  "
      ]
     },
     "execution_count": 3,
     "metadata": {},
     "output_type": "execute_result"
    }
   ],
   "source": [
    "df.head(5)"
   ]
  },
  {
   "cell_type": "markdown",
   "metadata": {},
   "source": [
    "***\n",
    "\n",
    "### EDA / Cleaning proccess:"
   ]
  },
  {
   "cell_type": "code",
   "execution_count": 4,
   "metadata": {},
   "outputs": [
    {
     "data": {
      "text/plain": [
       "array(['1/4', '9', '10', '23', '14', '17', '16', '13', '15', '2', '5',\n",
       "       '7', nan, '11', '1/2', '18', '21', '20', '22', '24', '1', '3', '6',\n",
       "       '12', '8', '0', '4', '19', '1/8', '26', '25', '30'], dtype=object)"
      ]
     },
     "execution_count": 4,
     "metadata": {},
     "output_type": "execute_result"
    }
   ],
   "source": [
    "df[\"cr\"].unique()"
   ]
  },
  {
   "cell_type": "code",
   "execution_count": 5,
   "metadata": {},
   "outputs": [
    {
     "data": {
      "text/plain": [
       "array(['Medium', 'Large', 'Huge', 'Gargantuan', 'Small', 'Tiny'],\n",
       "      dtype=object)"
      ]
     },
     "execution_count": 5,
     "metadata": {},
     "output_type": "execute_result"
    }
   ],
   "source": [
    "df[\"size\"].unique()"
   ]
  },
  {
   "cell_type": "code",
   "execution_count": 6,
   "metadata": {},
   "outputs": [
    {
     "data": {
      "text/plain": [
       "array([12, 17, 15, 21, 10, 19, 18, 14, 13,  0, 22, 20, 16,  7, 11,  9,  5,\n",
       "        6,  8, 24, 25])"
      ]
     },
     "execution_count": 6,
     "metadata": {},
     "output_type": "execute_result"
    }
   ],
   "source": [
    "df[\"ac\"].unique()"
   ]
  },
  {
   "cell_type": "code",
   "execution_count": 7,
   "metadata": {},
   "outputs": [
    {
     "data": {
      "text/plain": [
       "array(['fly', nan, 'swim', 'fly, swim'], dtype=object)"
      ]
     },
     "execution_count": 7,
     "metadata": {},
     "output_type": "execute_result"
    }
   ],
   "source": [
    "df[\"speed\"].unique()"
   ]
  },
  {
   "cell_type": "code",
   "execution_count": 8,
   "metadata": {},
   "outputs": [
    {
     "data": {
      "text/plain": [
       "array(['Monster Manual (BR)', \"Volo's Guide to Monsters\",\n",
       "       'Monster Manual (SRD)', 'Monster Manual',\n",
       "       'Adventures (Tomb of Annihilation)', \"Mordenkainen's Tome of Foes\",\n",
       "       'Adventures (Tyranny of Dragons)', 'Extra (AideDD)',\n",
       "       'Extra (Dragon Mag)', 'Adventures (Descent into Avernus)',\n",
       "       \"Adventures (Storm King's Thunder)\", 'Essentials Kit',\n",
       "       'Extra (Adventurers League)',\n",
       "       'Adventures (Dungeon of the Mad Mage)',\n",
       "       'Adventures (Princes of the Apocalypse)',\n",
       "       'Adventures (Dragon Heist)', 'Adventures (Curse of Strahd)'],\n",
       "      dtype=object)"
      ]
     },
     "execution_count": 8,
     "metadata": {},
     "output_type": "execute_result"
    }
   ],
   "source": [
    "df[\"source\"].unique()"
   ]
  },
  {
   "cell_type": "markdown",
   "metadata": {},
   "source": [
    "We find some unclean values in the column \"align\":"
   ]
  },
  {
   "cell_type": "code",
   "execution_count": 9,
   "metadata": {},
   "outputs": [
    {
     "data": {
      "text/plain": [
       "array(['neutral good', 'any alignment', 'lawful evil', 'chaotic evil',\n",
       "       'neutral evil', 'chaotic good', 'lawful good', 'unaligned',\n",
       "       'neutral', 'lawful neutral', 'any evil alignment',\n",
       "       'any non-good alignment', 'chaotic neutral',\n",
       "       'any non-lawful alignment', 'any chaotic alignment',\n",
       "       'neutral good ', 'chaotic good '], dtype=object)"
      ]
     },
     "execution_count": 9,
     "metadata": {},
     "output_type": "execute_result"
    }
   ],
   "source": [
    "df[\"align\"].unique()"
   ]
  },
  {
   "cell_type": "code",
   "execution_count": 10,
   "metadata": {},
   "outputs": [
    {
     "name": "stderr",
     "output_type": "stream",
     "text": [
      "/var/folders/c9/6zwnylqn0v3b4prwfdpt2ndc0000gn/T/ipykernel_7659/99145209.py:1: FutureWarning: The default value of regex will change from True to False in a future version.\n",
      "  df[\"align\"] = df[\"align\"].str.replace(\" +$\", \"\")\n"
     ]
    }
   ],
   "source": [
    "df[\"align\"] = df[\"align\"].str.replace(\" +$\", \"\")"
   ]
  },
  {
   "cell_type": "code",
   "execution_count": 11,
   "metadata": {},
   "outputs": [
    {
     "data": {
      "text/plain": [
       "array(['neutral good', 'any alignment', 'lawful evil', 'chaotic evil',\n",
       "       'neutral evil', 'chaotic good', 'lawful good', 'unaligned',\n",
       "       'neutral', 'lawful neutral', 'any evil alignment',\n",
       "       'any non-good alignment', 'chaotic neutral',\n",
       "       'any non-lawful alignment', 'any chaotic alignment'], dtype=object)"
      ]
     },
     "execution_count": 11,
     "metadata": {},
     "output_type": "execute_result"
    }
   ],
   "source": [
    "df[\"align\"].unique()"
   ]
  },
  {
   "cell_type": "code",
   "execution_count": null,
   "metadata": {},
   "outputs": [
    {
     "data": {
      "text/plain": [
       "(762, 17)"
      ]
     },
     "execution_count": 12,
     "metadata": {},
     "output_type": "execute_result"
    }
   ],
   "source": [
    "df.shape"
   ]
  },
  {
   "cell_type": "markdown",
   "metadata": {},
   "source": [
    "We find 762 rows and 17 columns on this DataFrame."
   ]
  },
  {
   "cell_type": "markdown",
   "metadata": {},
   "source": [
    "We find some null values in our columns, specially in the columns \"str\", \"dex\", \"con\", etc., which are pretty important for our analysis.\n",
    "\n",
    "We have a hunch these are the rows also affected by the column \"url\", and imagine the reason these values are empty is because these creatures' data isn't properly collected, for the \"abjurer\" we see in the .head() doesn't actually exist in Dungeons & Dragons' rules by this name. Instead, we assume it refers to the creature called \"abjurer wizard\", which does exist."
   ]
  },
  {
   "cell_type": "code",
   "execution_count": 12,
   "metadata": {},
   "outputs": [
    {
     "data": {
      "text/plain": [
       "name           0\n",
       "url          361\n",
       "cr             1\n",
       "type           0\n",
       "size           0\n",
       "ac             0\n",
       "hp             0\n",
       "speed        514\n",
       "align          0\n",
       "legendary    719\n",
       "source         0\n",
       "str          361\n",
       "dex          361\n",
       "con          361\n",
       "int          361\n",
       "wis          361\n",
       "cha          361\n",
       "dtype: int64"
      ]
     },
     "execution_count": 12,
     "metadata": {},
     "output_type": "execute_result"
    }
   ],
   "source": [
    "df.isnull().sum()"
   ]
  },
  {
   "cell_type": "markdown",
   "metadata": {},
   "source": [
    "We have decided to dispose of the column \"url\" because we have no use for it:"
   ]
  },
  {
   "cell_type": "code",
   "execution_count": 13,
   "metadata": {},
   "outputs": [],
   "source": [
    "df = df.drop([\"url\"], axis = 1)"
   ]
  },
  {
   "cell_type": "code",
   "execution_count": 14,
   "metadata": {},
   "outputs": [
    {
     "data": {
      "text/plain": [
       "Index(['name', 'cr', 'type', 'size', 'ac', 'hp', 'speed', 'align', 'legendary',\n",
       "       'source', 'str', 'dex', 'con', 'int', 'wis', 'cha'],\n",
       "      dtype='object')"
      ]
     },
     "execution_count": 14,
     "metadata": {},
     "output_type": "execute_result"
    }
   ],
   "source": [
    "df.columns"
   ]
  },
  {
   "cell_type": "markdown",
   "metadata": {},
   "source": [
    "On the columns we find the name of the creature, its Challenge Rating, type, size, Armor Class, speed, alignment and wheter or not it is legendary.\n",
    "\n",
    "We can also find the its core stats: Strength, Dexterity, Constitution, Intelligence, Wisdom and Charisma."
   ]
  },
  {
   "cell_type": "code",
   "execution_count": 15,
   "metadata": {},
   "outputs": [
    {
     "data": {
      "text/html": [
       "<div>\n",
       "<style scoped>\n",
       "    .dataframe tbody tr th:only-of-type {\n",
       "        vertical-align: middle;\n",
       "    }\n",
       "\n",
       "    .dataframe tbody tr th {\n",
       "        vertical-align: top;\n",
       "    }\n",
       "\n",
       "    .dataframe thead th {\n",
       "        text-align: right;\n",
       "    }\n",
       "</style>\n",
       "<table border=\"1\" class=\"dataframe\">\n",
       "  <thead>\n",
       "    <tr style=\"text-align: right;\">\n",
       "      <th></th>\n",
       "      <th>name</th>\n",
       "      <th>cr</th>\n",
       "      <th>type</th>\n",
       "      <th>size</th>\n",
       "      <th>ac</th>\n",
       "      <th>hp</th>\n",
       "      <th>speed</th>\n",
       "      <th>align</th>\n",
       "      <th>legendary</th>\n",
       "      <th>source</th>\n",
       "      <th>str</th>\n",
       "      <th>dex</th>\n",
       "      <th>con</th>\n",
       "      <th>int</th>\n",
       "      <th>wis</th>\n",
       "      <th>cha</th>\n",
       "    </tr>\n",
       "  </thead>\n",
       "  <tbody>\n",
       "    <tr>\n",
       "      <th>0</th>\n",
       "      <td>aarakocra</td>\n",
       "      <td>1/4</td>\n",
       "      <td>humanoid (aarakocra)</td>\n",
       "      <td>Medium</td>\n",
       "      <td>12</td>\n",
       "      <td>13</td>\n",
       "      <td>fly</td>\n",
       "      <td>neutral good</td>\n",
       "      <td>NaN</td>\n",
       "      <td>Monster Manual (BR)</td>\n",
       "      <td>10.0</td>\n",
       "      <td>14.0</td>\n",
       "      <td>10.0</td>\n",
       "      <td>11.0</td>\n",
       "      <td>12.0</td>\n",
       "      <td>11.0</td>\n",
       "    </tr>\n",
       "    <tr>\n",
       "      <th>1</th>\n",
       "      <td>abjurer</td>\n",
       "      <td>9</td>\n",
       "      <td>humanoid (any race)</td>\n",
       "      <td>Medium</td>\n",
       "      <td>12</td>\n",
       "      <td>84</td>\n",
       "      <td>NaN</td>\n",
       "      <td>any alignment</td>\n",
       "      <td>NaN</td>\n",
       "      <td>Volo's Guide to Monsters</td>\n",
       "      <td>NaN</td>\n",
       "      <td>NaN</td>\n",
       "      <td>NaN</td>\n",
       "      <td>NaN</td>\n",
       "      <td>NaN</td>\n",
       "      <td>NaN</td>\n",
       "    </tr>\n",
       "    <tr>\n",
       "      <th>2</th>\n",
       "      <td>aboleth</td>\n",
       "      <td>10</td>\n",
       "      <td>aberration</td>\n",
       "      <td>Large</td>\n",
       "      <td>17</td>\n",
       "      <td>135</td>\n",
       "      <td>swim</td>\n",
       "      <td>lawful evil</td>\n",
       "      <td>Legendary</td>\n",
       "      <td>Monster Manual (SRD)</td>\n",
       "      <td>21.0</td>\n",
       "      <td>9.0</td>\n",
       "      <td>15.0</td>\n",
       "      <td>18.0</td>\n",
       "      <td>15.0</td>\n",
       "      <td>18.0</td>\n",
       "    </tr>\n",
       "    <tr>\n",
       "      <th>3</th>\n",
       "      <td>abominable-yeti</td>\n",
       "      <td>9</td>\n",
       "      <td>monstrosity</td>\n",
       "      <td>Huge</td>\n",
       "      <td>15</td>\n",
       "      <td>137</td>\n",
       "      <td>NaN</td>\n",
       "      <td>chaotic evil</td>\n",
       "      <td>NaN</td>\n",
       "      <td>Monster Manual</td>\n",
       "      <td>NaN</td>\n",
       "      <td>NaN</td>\n",
       "      <td>NaN</td>\n",
       "      <td>NaN</td>\n",
       "      <td>NaN</td>\n",
       "      <td>NaN</td>\n",
       "    </tr>\n",
       "    <tr>\n",
       "      <th>4</th>\n",
       "      <td>acererak</td>\n",
       "      <td>23</td>\n",
       "      <td>undead</td>\n",
       "      <td>Medium</td>\n",
       "      <td>21</td>\n",
       "      <td>285</td>\n",
       "      <td>NaN</td>\n",
       "      <td>neutral evil</td>\n",
       "      <td>NaN</td>\n",
       "      <td>Adventures (Tomb of Annihilation)</td>\n",
       "      <td>NaN</td>\n",
       "      <td>NaN</td>\n",
       "      <td>NaN</td>\n",
       "      <td>NaN</td>\n",
       "      <td>NaN</td>\n",
       "      <td>NaN</td>\n",
       "    </tr>\n",
       "  </tbody>\n",
       "</table>\n",
       "</div>"
      ],
      "text/plain": [
       "              name   cr                  type    size  ac   hp speed  \\\n",
       "0        aarakocra  1/4  humanoid (aarakocra)  Medium  12   13   fly   \n",
       "1          abjurer    9   humanoid (any race)  Medium  12   84   NaN   \n",
       "2          aboleth   10            aberration   Large  17  135  swim   \n",
       "3  abominable-yeti    9           monstrosity    Huge  15  137   NaN   \n",
       "4         acererak   23                undead  Medium  21  285   NaN   \n",
       "\n",
       "           align  legendary                             source   str   dex  \\\n",
       "0   neutral good        NaN                Monster Manual (BR)  10.0  14.0   \n",
       "1  any alignment        NaN           Volo's Guide to Monsters   NaN   NaN   \n",
       "2    lawful evil  Legendary               Monster Manual (SRD)  21.0   9.0   \n",
       "3   chaotic evil        NaN                     Monster Manual   NaN   NaN   \n",
       "4   neutral evil        NaN  Adventures (Tomb of Annihilation)   NaN   NaN   \n",
       "\n",
       "    con   int   wis   cha  \n",
       "0  10.0  11.0  12.0  11.0  \n",
       "1   NaN   NaN   NaN   NaN  \n",
       "2  15.0  18.0  15.0  18.0  \n",
       "3   NaN   NaN   NaN   NaN  \n",
       "4   NaN   NaN   NaN   NaN  "
      ]
     },
     "execution_count": 15,
     "metadata": {},
     "output_type": "execute_result"
    }
   ],
   "source": [
    "df.head(5)"
   ]
  },
  {
   "cell_type": "markdown",
   "metadata": {},
   "source": [
    "We have decided to keep working on this DataFrame and try to merge it with a different one that has no nulls (but has many information we don't find useful)."
   ]
  },
  {
   "cell_type": "markdown",
   "metadata": {},
   "source": [
    "First, we rename the columns we want to dispose of to be aware of them:"
   ]
  },
  {
   "cell_type": "code",
   "execution_count": 16,
   "metadata": {},
   "outputs": [],
   "source": [
    "df = df.rename(columns = {\"str\" : \"str2\", \"int\": \"int2\", \"con\" : \"con2\", \"wis\" : \"wis2\", \"dex\" : \"dex2\", \"cha\" : \"cha2\", \"legendary\" : \"legendary2\"}, errors = \"raise\")"
   ]
  },
  {
   "cell_type": "code",
   "execution_count": 17,
   "metadata": {},
   "outputs": [],
   "source": [
    "df2 = pd.read_csv(\"monsters_better.csv\")"
   ]
  },
  {
   "cell_type": "code",
   "execution_count": 18,
   "metadata": {},
   "outputs": [
    {
     "data": {
      "text/plain": [
       "True"
      ]
     },
     "execution_count": 18,
     "metadata": {},
     "output_type": "execute_result"
    }
   ],
   "source": [
    "df2.shape[0] == df.shape[0]"
   ]
  },
  {
   "cell_type": "markdown",
   "metadata": {},
   "source": [
    "We find the second DataFrame is identycal in rows as the first one, which is just perfect."
   ]
  },
  {
   "cell_type": "code",
   "execution_count": 19,
   "metadata": {},
   "outputs": [
    {
     "data": {
      "text/plain": [
       "Index(['name', 'size', 'type', 'alignment', 'languages', 'ac', 'hp', 'cr',\n",
       "       'speed', 'swim', 'fly', 'climb', 'burrow', 'passive_perception',\n",
       "       'darkvision', 'truesight', 'tremorsense', 'blindsight', 'strength',\n",
       "       'str_mod', 'dex', 'dex_mod', 'con', 'con_mod', 'intel', 'int_mod',\n",
       "       'wis', 'wis_mod', 'cha', 'cha_mod', 'str_save', 'dex_save', 'con_save',\n",
       "       'int_save', 'wis_save', 'cha_save', 'history', 'perception', 'stealth',\n",
       "       'persuasion', 'insight', 'deception', 'arcana', 'religion',\n",
       "       'acrobatics', 'athletics', 'intimidation', 'senses', 'attributes',\n",
       "       'actions', 'legendary_actions', 'legendary', 'source'],\n",
       "      dtype='object')"
      ]
     },
     "execution_count": 19,
     "metadata": {},
     "output_type": "execute_result"
    }
   ],
   "source": [
    "df2.columns"
   ]
  },
  {
   "cell_type": "code",
   "execution_count": 20,
   "metadata": {},
   "outputs": [],
   "source": [
    "df2 = df2[[\"intel\", \"wis\", \"cha\", \"strength\", \"dex\", \"con\", \"legendary\"]]"
   ]
  },
  {
   "cell_type": "code",
   "execution_count": 21,
   "metadata": {},
   "outputs": [
    {
     "data": {
      "text/html": [
       "<div>\n",
       "<style scoped>\n",
       "    .dataframe tbody tr th:only-of-type {\n",
       "        vertical-align: middle;\n",
       "    }\n",
       "\n",
       "    .dataframe tbody tr th {\n",
       "        vertical-align: top;\n",
       "    }\n",
       "\n",
       "    .dataframe thead th {\n",
       "        text-align: right;\n",
       "    }\n",
       "</style>\n",
       "<table border=\"1\" class=\"dataframe\">\n",
       "  <thead>\n",
       "    <tr style=\"text-align: right;\">\n",
       "      <th></th>\n",
       "      <th>intel</th>\n",
       "      <th>wis</th>\n",
       "      <th>cha</th>\n",
       "      <th>strength</th>\n",
       "      <th>dex</th>\n",
       "      <th>con</th>\n",
       "      <th>legendary</th>\n",
       "    </tr>\n",
       "  </thead>\n",
       "  <tbody>\n",
       "    <tr>\n",
       "      <th>0</th>\n",
       "      <td>11</td>\n",
       "      <td>12</td>\n",
       "      <td>11</td>\n",
       "      <td>10</td>\n",
       "      <td>14</td>\n",
       "      <td>10</td>\n",
       "      <td>0</td>\n",
       "    </tr>\n",
       "    <tr>\n",
       "      <th>1</th>\n",
       "      <td>18</td>\n",
       "      <td>12</td>\n",
       "      <td>11</td>\n",
       "      <td>9</td>\n",
       "      <td>14</td>\n",
       "      <td>14</td>\n",
       "      <td>0</td>\n",
       "    </tr>\n",
       "  </tbody>\n",
       "</table>\n",
       "</div>"
      ],
      "text/plain": [
       "   intel  wis  cha  strength  dex  con  legendary\n",
       "0     11   12   11        10   14   10          0\n",
       "1     18   12   11         9   14   14          0"
      ]
     },
     "execution_count": 21,
     "metadata": {},
     "output_type": "execute_result"
    }
   ],
   "source": [
    "df2.head(2)"
   ]
  },
  {
   "cell_type": "code",
   "execution_count": 22,
   "metadata": {},
   "outputs": [],
   "source": [
    "df2 = df2.rename(columns = {\"strength\": \"str\", \"intel\": \"int\"}, errors = \"raise\")"
   ]
  },
  {
   "cell_type": "code",
   "execution_count": 23,
   "metadata": {},
   "outputs": [
    {
     "data": {
      "text/html": [
       "<div>\n",
       "<style scoped>\n",
       "    .dataframe tbody tr th:only-of-type {\n",
       "        vertical-align: middle;\n",
       "    }\n",
       "\n",
       "    .dataframe tbody tr th {\n",
       "        vertical-align: top;\n",
       "    }\n",
       "\n",
       "    .dataframe thead th {\n",
       "        text-align: right;\n",
       "    }\n",
       "</style>\n",
       "<table border=\"1\" class=\"dataframe\">\n",
       "  <thead>\n",
       "    <tr style=\"text-align: right;\">\n",
       "      <th></th>\n",
       "      <th>int</th>\n",
       "      <th>wis</th>\n",
       "      <th>cha</th>\n",
       "      <th>str</th>\n",
       "      <th>dex</th>\n",
       "      <th>con</th>\n",
       "      <th>legendary</th>\n",
       "    </tr>\n",
       "  </thead>\n",
       "  <tbody>\n",
       "    <tr>\n",
       "      <th>0</th>\n",
       "      <td>11</td>\n",
       "      <td>12</td>\n",
       "      <td>11</td>\n",
       "      <td>10</td>\n",
       "      <td>14</td>\n",
       "      <td>10</td>\n",
       "      <td>0</td>\n",
       "    </tr>\n",
       "    <tr>\n",
       "      <th>1</th>\n",
       "      <td>18</td>\n",
       "      <td>12</td>\n",
       "      <td>11</td>\n",
       "      <td>9</td>\n",
       "      <td>14</td>\n",
       "      <td>14</td>\n",
       "      <td>0</td>\n",
       "    </tr>\n",
       "  </tbody>\n",
       "</table>\n",
       "</div>"
      ],
      "text/plain": [
       "   int  wis  cha  str  dex  con  legendary\n",
       "0   11   12   11   10   14   10          0\n",
       "1   18   12   11    9   14   14          0"
      ]
     },
     "execution_count": 23,
     "metadata": {},
     "output_type": "execute_result"
    }
   ],
   "source": [
    "df2.head(2)"
   ]
  },
  {
   "cell_type": "code",
   "execution_count": 24,
   "metadata": {},
   "outputs": [],
   "source": [
    "df_total = pd.concat([df, df2], axis = 1, ignore_index = False)"
   ]
  },
  {
   "cell_type": "code",
   "execution_count": 25,
   "metadata": {},
   "outputs": [],
   "source": [
    "df = df_total.drop([\"str2\", \"dex2\", \"con2\", \"int2\", \"wis2\", \"cha2\", \"legendary2\"], axis = 1)"
   ]
  },
  {
   "cell_type": "markdown",
   "metadata": {},
   "source": [
    "Now we'd like to replace the legendary column with strings:"
   ]
  },
  {
   "cell_type": "code",
   "execution_count": 26,
   "metadata": {},
   "outputs": [
    {
     "data": {
      "text/html": [
       "<div>\n",
       "<style scoped>\n",
       "    .dataframe tbody tr th:only-of-type {\n",
       "        vertical-align: middle;\n",
       "    }\n",
       "\n",
       "    .dataframe tbody tr th {\n",
       "        vertical-align: top;\n",
       "    }\n",
       "\n",
       "    .dataframe thead th {\n",
       "        text-align: right;\n",
       "    }\n",
       "</style>\n",
       "<table border=\"1\" class=\"dataframe\">\n",
       "  <thead>\n",
       "    <tr style=\"text-align: right;\">\n",
       "      <th></th>\n",
       "      <th>name</th>\n",
       "      <th>cr</th>\n",
       "      <th>type</th>\n",
       "      <th>size</th>\n",
       "      <th>ac</th>\n",
       "      <th>hp</th>\n",
       "      <th>speed</th>\n",
       "      <th>align</th>\n",
       "      <th>source</th>\n",
       "      <th>int</th>\n",
       "      <th>wis</th>\n",
       "      <th>cha</th>\n",
       "      <th>str</th>\n",
       "      <th>dex</th>\n",
       "      <th>con</th>\n",
       "      <th>legendary</th>\n",
       "    </tr>\n",
       "  </thead>\n",
       "  <tbody>\n",
       "    <tr>\n",
       "      <th>142</th>\n",
       "      <td>crab</td>\n",
       "      <td>0</td>\n",
       "      <td>beast</td>\n",
       "      <td>Tiny</td>\n",
       "      <td>11</td>\n",
       "      <td>2</td>\n",
       "      <td>swim</td>\n",
       "      <td>unaligned</td>\n",
       "      <td>Monster Manual (SRD)</td>\n",
       "      <td>1</td>\n",
       "      <td>8</td>\n",
       "      <td>2</td>\n",
       "      <td>2</td>\n",
       "      <td>11</td>\n",
       "      <td>10</td>\n",
       "      <td>0</td>\n",
       "    </tr>\n",
       "    <tr>\n",
       "      <th>163</th>\n",
       "      <td>deathlock-wight</td>\n",
       "      <td>3</td>\n",
       "      <td>undead</td>\n",
       "      <td>Medium</td>\n",
       "      <td>12</td>\n",
       "      <td>37</td>\n",
       "      <td>NaN</td>\n",
       "      <td>neutral evil</td>\n",
       "      <td>Mordenkainen's Tome of Foes</td>\n",
       "      <td>12</td>\n",
       "      <td>14</td>\n",
       "      <td>16</td>\n",
       "      <td>11</td>\n",
       "      <td>14</td>\n",
       "      <td>16</td>\n",
       "      <td>0</td>\n",
       "    </tr>\n",
       "    <tr>\n",
       "      <th>615</th>\n",
       "      <td>steel-predator</td>\n",
       "      <td>16</td>\n",
       "      <td>construct</td>\n",
       "      <td>Large</td>\n",
       "      <td>20</td>\n",
       "      <td>207</td>\n",
       "      <td>NaN</td>\n",
       "      <td>lawful evil</td>\n",
       "      <td>Mordenkainen's Tome of Foes</td>\n",
       "      <td>4</td>\n",
       "      <td>14</td>\n",
       "      <td>6</td>\n",
       "      <td>24</td>\n",
       "      <td>17</td>\n",
       "      <td>22</td>\n",
       "      <td>0</td>\n",
       "    </tr>\n",
       "    <tr>\n",
       "      <th>154</th>\n",
       "      <td>darkmantle</td>\n",
       "      <td>1/2</td>\n",
       "      <td>monstrosity</td>\n",
       "      <td>Small</td>\n",
       "      <td>11</td>\n",
       "      <td>22</td>\n",
       "      <td>fly</td>\n",
       "      <td>unaligned</td>\n",
       "      <td>Monster Manual (SRD)</td>\n",
       "      <td>2</td>\n",
       "      <td>10</td>\n",
       "      <td>5</td>\n",
       "      <td>16</td>\n",
       "      <td>12</td>\n",
       "      <td>13</td>\n",
       "      <td>0</td>\n",
       "    </tr>\n",
       "    <tr>\n",
       "      <th>110</th>\n",
       "      <td>bulette</td>\n",
       "      <td>5</td>\n",
       "      <td>monstrosity</td>\n",
       "      <td>Large</td>\n",
       "      <td>17</td>\n",
       "      <td>94</td>\n",
       "      <td>NaN</td>\n",
       "      <td>unaligned</td>\n",
       "      <td>Monster Manual (SRD)</td>\n",
       "      <td>2</td>\n",
       "      <td>10</td>\n",
       "      <td>5</td>\n",
       "      <td>19</td>\n",
       "      <td>11</td>\n",
       "      <td>21</td>\n",
       "      <td>0</td>\n",
       "    </tr>\n",
       "  </tbody>\n",
       "</table>\n",
       "</div>"
      ],
      "text/plain": [
       "                name   cr         type    size  ac   hp speed         align  \\\n",
       "142             crab    0        beast    Tiny  11    2  swim     unaligned   \n",
       "163  deathlock-wight    3       undead  Medium  12   37   NaN  neutral evil   \n",
       "615   steel-predator   16    construct   Large  20  207   NaN   lawful evil   \n",
       "154       darkmantle  1/2  monstrosity   Small  11   22   fly     unaligned   \n",
       "110          bulette    5  monstrosity   Large  17   94   NaN     unaligned   \n",
       "\n",
       "                          source  int  wis  cha  str  dex  con  legendary  \n",
       "142         Monster Manual (SRD)    1    8    2    2   11   10          0  \n",
       "163  Mordenkainen's Tome of Foes   12   14   16   11   14   16          0  \n",
       "615  Mordenkainen's Tome of Foes    4   14    6   24   17   22          0  \n",
       "154         Monster Manual (SRD)    2   10    5   16   12   13          0  \n",
       "110         Monster Manual (SRD)    2   10    5   19   11   21          0  "
      ]
     },
     "execution_count": 26,
     "metadata": {},
     "output_type": "execute_result"
    }
   ],
   "source": [
    "df.sample(5)"
   ]
  },
  {
   "cell_type": "code",
   "execution_count": 27,
   "metadata": {},
   "outputs": [],
   "source": [
    "df[\"legendary\"] = df[\"legendary\"].astype(str)"
   ]
  },
  {
   "cell_type": "code",
   "execution_count": 28,
   "metadata": {},
   "outputs": [],
   "source": [
    "df[\"legendary\"] = df[\"legendary\"].replace([\"0\", \"1\"], [\"Not legendary\", \"Legendary\"])"
   ]
  },
  {
   "cell_type": "code",
   "execution_count": 29,
   "metadata": {},
   "outputs": [
    {
     "data": {
      "text/html": [
       "<div>\n",
       "<style scoped>\n",
       "    .dataframe tbody tr th:only-of-type {\n",
       "        vertical-align: middle;\n",
       "    }\n",
       "\n",
       "    .dataframe tbody tr th {\n",
       "        vertical-align: top;\n",
       "    }\n",
       "\n",
       "    .dataframe thead th {\n",
       "        text-align: right;\n",
       "    }\n",
       "</style>\n",
       "<table border=\"1\" class=\"dataframe\">\n",
       "  <thead>\n",
       "    <tr style=\"text-align: right;\">\n",
       "      <th></th>\n",
       "      <th>name</th>\n",
       "      <th>cr</th>\n",
       "      <th>type</th>\n",
       "      <th>size</th>\n",
       "      <th>ac</th>\n",
       "      <th>hp</th>\n",
       "      <th>speed</th>\n",
       "      <th>align</th>\n",
       "      <th>source</th>\n",
       "      <th>int</th>\n",
       "      <th>wis</th>\n",
       "      <th>cha</th>\n",
       "      <th>str</th>\n",
       "      <th>dex</th>\n",
       "      <th>con</th>\n",
       "      <th>legendary</th>\n",
       "    </tr>\n",
       "  </thead>\n",
       "  <tbody>\n",
       "    <tr>\n",
       "      <th>269</th>\n",
       "      <td>ghoul</td>\n",
       "      <td>1</td>\n",
       "      <td>undead</td>\n",
       "      <td>Medium</td>\n",
       "      <td>12</td>\n",
       "      <td>22</td>\n",
       "      <td>NaN</td>\n",
       "      <td>chaotic evil</td>\n",
       "      <td>Monster Manual (SRD)</td>\n",
       "      <td>7</td>\n",
       "      <td>10</td>\n",
       "      <td>6</td>\n",
       "      <td>13</td>\n",
       "      <td>15</td>\n",
       "      <td>10</td>\n",
       "      <td>Not legendary</td>\n",
       "    </tr>\n",
       "    <tr>\n",
       "      <th>340</th>\n",
       "      <td>grimlock</td>\n",
       "      <td>1/4</td>\n",
       "      <td>humanoid (grimlock)</td>\n",
       "      <td>Medium</td>\n",
       "      <td>11</td>\n",
       "      <td>11</td>\n",
       "      <td>NaN</td>\n",
       "      <td>neutral evil</td>\n",
       "      <td>Monster Manual (SRD)</td>\n",
       "      <td>9</td>\n",
       "      <td>8</td>\n",
       "      <td>6</td>\n",
       "      <td>16</td>\n",
       "      <td>12</td>\n",
       "      <td>12</td>\n",
       "      <td>Not legendary</td>\n",
       "    </tr>\n",
       "    <tr>\n",
       "      <th>78</th>\n",
       "      <td>bat</td>\n",
       "      <td>0</td>\n",
       "      <td>beast</td>\n",
       "      <td>Tiny</td>\n",
       "      <td>12</td>\n",
       "      <td>1</td>\n",
       "      <td>fly</td>\n",
       "      <td>unaligned</td>\n",
       "      <td>Monster Manual (SRD)</td>\n",
       "      <td>2</td>\n",
       "      <td>12</td>\n",
       "      <td>4</td>\n",
       "      <td>2</td>\n",
       "      <td>15</td>\n",
       "      <td>8</td>\n",
       "      <td>Not legendary</td>\n",
       "    </tr>\n",
       "    <tr>\n",
       "      <th>709</th>\n",
       "      <td>wererat</td>\n",
       "      <td>2</td>\n",
       "      <td>humanoid (human, shapechanger)</td>\n",
       "      <td>Medium</td>\n",
       "      <td>12</td>\n",
       "      <td>33</td>\n",
       "      <td>NaN</td>\n",
       "      <td>lawful evil</td>\n",
       "      <td>Monster Manual (SRD)</td>\n",
       "      <td>11</td>\n",
       "      <td>10</td>\n",
       "      <td>8</td>\n",
       "      <td>10</td>\n",
       "      <td>15</td>\n",
       "      <td>12</td>\n",
       "      <td>Not legendary</td>\n",
       "    </tr>\n",
       "    <tr>\n",
       "      <th>752</th>\n",
       "      <td>yuan-ti-broodguard</td>\n",
       "      <td>2</td>\n",
       "      <td>humanoid (yuan-ti)</td>\n",
       "      <td>Medium</td>\n",
       "      <td>14</td>\n",
       "      <td>45</td>\n",
       "      <td>NaN</td>\n",
       "      <td>neutral evil</td>\n",
       "      <td>Volo's Guide to Monsters</td>\n",
       "      <td>6</td>\n",
       "      <td>11</td>\n",
       "      <td>4</td>\n",
       "      <td>15</td>\n",
       "      <td>14</td>\n",
       "      <td>14</td>\n",
       "      <td>Not legendary</td>\n",
       "    </tr>\n",
       "  </tbody>\n",
       "</table>\n",
       "</div>"
      ],
      "text/plain": [
       "                   name   cr                            type    size  ac  hp  \\\n",
       "269               ghoul    1                          undead  Medium  12  22   \n",
       "340            grimlock  1/4             humanoid (grimlock)  Medium  11  11   \n",
       "78                  bat    0                           beast    Tiny  12   1   \n",
       "709             wererat    2  humanoid (human, shapechanger)  Medium  12  33   \n",
       "752  yuan-ti-broodguard    2              humanoid (yuan-ti)  Medium  14  45   \n",
       "\n",
       "    speed         align                    source  int  wis  cha  str  dex  \\\n",
       "269   NaN  chaotic evil      Monster Manual (SRD)    7   10    6   13   15   \n",
       "340   NaN  neutral evil      Monster Manual (SRD)    9    8    6   16   12   \n",
       "78    fly     unaligned      Monster Manual (SRD)    2   12    4    2   15   \n",
       "709   NaN   lawful evil      Monster Manual (SRD)   11   10    8   10   15   \n",
       "752   NaN  neutral evil  Volo's Guide to Monsters    6   11    4   15   14   \n",
       "\n",
       "     con      legendary  \n",
       "269   10  Not legendary  \n",
       "340   12  Not legendary  \n",
       "78     8  Not legendary  \n",
       "709   12  Not legendary  \n",
       "752   14  Not legendary  "
      ]
     },
     "execution_count": 29,
     "metadata": {},
     "output_type": "execute_result"
    }
   ],
   "source": [
    "df.sample(5)"
   ]
  },
  {
   "cell_type": "markdown",
   "metadata": {},
   "source": [
    "***\n",
    "\n",
    "### Wisdom VS Intelligence: Good VS Evil?\n",
    "\n",
    "We feel curious to find out if there is any relation between a creature's alignment and whether it is intelligent or wise. We find that, many times, intelligence is associated with dark motivations, and wisdom, with fair ones."
   ]
  },
  {
   "cell_type": "code",
   "execution_count": 30,
   "metadata": {},
   "outputs": [
    {
     "data": {
      "text/plain": [
       "array(['neutral good', 'any alignment', 'lawful evil', 'chaotic evil',\n",
       "       'neutral evil', 'chaotic good', 'lawful good', 'unaligned',\n",
       "       'neutral', 'lawful neutral', 'any evil alignment',\n",
       "       'any non-good alignment', 'chaotic neutral',\n",
       "       'any non-lawful alignment', 'any chaotic alignment'], dtype=object)"
      ]
     },
     "execution_count": 30,
     "metadata": {},
     "output_type": "execute_result"
    }
   ],
   "source": [
    "df[\"align\"].unique()"
   ]
  },
  {
   "cell_type": "code",
   "execution_count": 31,
   "metadata": {},
   "outputs": [],
   "source": [
    "list_good = [\"neutral good\", \"lawful good\", \"chaotic good\"]"
   ]
  },
  {
   "cell_type": "code",
   "execution_count": 32,
   "metadata": {},
   "outputs": [],
   "source": [
    "df_good = df[df['align'].isin(list_good)]"
   ]
  },
  {
   "cell_type": "code",
   "execution_count": 33,
   "metadata": {},
   "outputs": [
    {
     "data": {
      "text/plain": [
       "array(['neutral good', 'chaotic good', 'lawful good'], dtype=object)"
      ]
     },
     "execution_count": 33,
     "metadata": {},
     "output_type": "execute_result"
    }
   ],
   "source": [
    "df_good[\"align\"].unique()"
   ]
  },
  {
   "cell_type": "code",
   "execution_count": 34,
   "metadata": {},
   "outputs": [
    {
     "data": {
      "text/plain": [
       "<AxesSubplot:xlabel='align', ylabel='wis'>"
      ]
     },
     "execution_count": 34,
     "metadata": {},
     "output_type": "execute_result"
    },
    {
     "data": {
      "image/png": "[encoded data removed]",
      "text/plain": [
       "<Figure size 432x288 with 1 Axes>"
      ]
     },
     "metadata": {
      "needs_background": "light"
     },
     "output_type": "display_data"
    }
   ],
   "source": [
    "sns.lineplot(data = df_good, x = \"align\", y = \"wis\")"
   ]
  },
  {
   "cell_type": "code",
   "execution_count": 35,
   "metadata": {},
   "outputs": [
    {
     "data": {
      "text/plain": [
       "<AxesSubplot:xlabel='align', ylabel='int'>"
      ]
     },
     "execution_count": 35,
     "metadata": {},
     "output_type": "execute_result"
    },
    {
     "data": {
      "image/png": "[encoded data removed]",
      "text/plain": [
       "<Figure size 432x288 with 1 Axes>"
      ]
     },
     "metadata": {
      "needs_background": "light"
     },
     "output_type": "display_data"
    }
   ],
   "source": [
    "sns.lineplot(data = df_good, x = \"align\", y = \"int\")"
   ]
  },
  {
   "cell_type": "markdown",
   "metadata": {},
   "source": [
    "We are a little bit shocked to find out that, without a shadow of a doubt, lawful good characters are the most intelligent and wise of them all!"
   ]
  },
  {
   "cell_type": "code",
   "execution_count": 36,
   "metadata": {},
   "outputs": [],
   "source": [
    "list_evil = [\"lawful evil\", \"chaotic evil\", \"neutral evil\"]"
   ]
  },
  {
   "cell_type": "code",
   "execution_count": 37,
   "metadata": {},
   "outputs": [],
   "source": [
    "df_evil = df[df['align'].isin(list_evil)]"
   ]
  },
  {
   "cell_type": "code",
   "execution_count": 38,
   "metadata": {},
   "outputs": [
    {
     "data": {
      "text/plain": [
       "<AxesSubplot:xlabel='align', ylabel='wis'>"
      ]
     },
     "execution_count": 38,
     "metadata": {},
     "output_type": "execute_result"
    },
    {
     "data": {
      "image/png": "[encoded data removed]",
      "text/plain": [
       "<Figure size 432x288 with 1 Axes>"
      ]
     },
     "metadata": {
      "needs_background": "light"
     },
     "output_type": "display_data"
    }
   ],
   "source": [
    "sns.lineplot(data = df_evil, x = \"align\", y = \"wis\")"
   ]
  },
  {
   "cell_type": "code",
   "execution_count": null,
   "metadata": {},
   "outputs": [
    {
     "data": {
      "text/plain": [
       "<AxesSubplot:xlabel='align', ylabel='int'>"
      ]
     },
     "execution_count": 40,
     "metadata": {},
     "output_type": "execute_result"
    },
    {
     "data": {
      "image/png": "[encoded data removed]",
      "text/plain": [
       "<Figure size 432x288 with 1 Axes>"
      ]
     },
     "metadata": {
      "needs_background": "light"
     },
     "output_type": "display_data"
    }
   ],
   "source": [
    "sns.lineplot(data = df_evil, x = \"align\", y = \"int\")"
   ]
  },
  {
   "cell_type": "markdown",
   "metadata": {},
   "source": [
    "Following friends' advice I'm going to find out the differences between the Charisma stat, which may result enlightning."
   ]
  },
  {
   "cell_type": "code",
   "execution_count": 39,
   "metadata": {},
   "outputs": [
    {
     "data": {
      "text/plain": [
       "<AxesSubplot:xlabel='align', ylabel='cha'>"
      ]
     },
     "execution_count": 39,
     "metadata": {},
     "output_type": "execute_result"
    },
    {
     "data": {
      "image/png": "[encoded data removed]",
      "text/plain": [
       "<Figure size 432x288 with 1 Axes>"
      ]
     },
     "metadata": {
      "needs_background": "light"
     },
     "output_type": "display_data"
    }
   ],
   "source": [
    "sns.lineplot(data = df_good, x = \"align\", y = \"cha\")"
   ]
  },
  {
   "cell_type": "code",
   "execution_count": 40,
   "metadata": {},
   "outputs": [
    {
     "data": {
      "text/plain": [
       "<AxesSubplot:xlabel='align', ylabel='cha'>"
      ]
     },
     "execution_count": 40,
     "metadata": {},
     "output_type": "execute_result"
    },
    {
     "data": {
      "image/png": "[encoded data removed]",
      "text/plain": [
       "<Figure size 432x288 with 1 Axes>"
      ]
     },
     "metadata": {
      "needs_background": "light"
     },
     "output_type": "display_data"
    }
   ],
   "source": [
    "sns.lineplot(data = df_evil, x = \"align\", y = \"cha\")"
   ]
  },
  {
   "cell_type": "markdown",
   "metadata": {},
   "source": [
    "We actually expected evil alignments to excel at Charisma, so we are surprised to find out that lawful good aligned characters are the most intelligent, the most wise and also the most charismatic of them all!\n",
    "\n",
    "Good wins!"
   ]
  },
  {
   "cell_type": "markdown",
   "metadata": {},
   "source": [
    "***"
   ]
  },
  {
   "cell_type": "markdown",
   "metadata": {},
   "source": [
    "### Legendary creatures."
   ]
  },
  {
   "cell_type": "code",
   "execution_count": 41,
   "metadata": {},
   "outputs": [],
   "source": [
    "df_legendary = df[df[\"legendary\"] == \"Legendary\"]"
   ]
  },
  {
   "cell_type": "code",
   "execution_count": 42,
   "metadata": {},
   "outputs": [
    {
     "name": "stdout",
     "output_type": "stream",
     "text": [
      "There is a 5.6430446194225725 percentage of legendary creatures in the D&D monsters' list.\n"
     ]
    }
   ],
   "source": [
    "print(\"There is a\", 100 * df_legendary.shape[0]/df.shape[0], \"percentage of legendary creatures in the D&D monsters' list.\")"
   ]
  },
  {
   "cell_type": "code",
   "execution_count": 43,
   "metadata": {},
   "outputs": [
    {
     "name": "stdout",
     "output_type": "stream",
     "text": [
      "And there are, in total 43 legendary creatures in D&D.\n"
     ]
    }
   ],
   "source": [
    "print(\"And there are, in total\", df_legendary.shape[0], \"legendary creatures in D&D.\")"
   ]
  },
  {
   "cell_type": "markdown",
   "metadata": {},
   "source": [
    "Let's find out more! How many of them are dragons?"
   ]
  },
  {
   "cell_type": "code",
   "execution_count": 44,
   "metadata": {},
   "outputs": [],
   "source": [
    "df_legendary_dragons = df_legendary[\"type\"] == \"dragon\""
   ]
  },
  {
   "cell_type": "code",
   "execution_count": 45,
   "metadata": {},
   "outputs": [
    {
     "name": "stdout",
     "output_type": "stream",
     "text": [
      "There are 43 legendary dragons in D&D! That's every legendary creature!\n"
     ]
    }
   ],
   "source": [
    "print(\"There are\", df_legendary_dragons.shape[0], \"legendary dragons in D&D! That's every legendary creature!\")"
   ]
  },
  {
   "cell_type": "markdown",
   "metadata": {},
   "source": [
    "***"
   ]
  },
  {
   "attachments": {},
   "cell_type": "markdown",
   "metadata": {},
   "source": [
    "### Relations between AC and HP"
   ]
  },
  {
   "cell_type": "code",
   "execution_count": 46,
   "metadata": {},
   "outputs": [
    {
     "data": {
      "text/plain": [
       "<AxesSubplot:xlabel='ac', ylabel='hp'>"
      ]
     },
     "execution_count": 46,
     "metadata": {},
     "output_type": "execute_result"
    },
    {
     "data": {
      "image/png": "[encoded data removed]",
      "text/plain": [
       "<Figure size 432x288 with 1 Axes>"
      ]
     },
     "metadata": {
      "needs_background": "light"
     },
     "output_type": "display_data"
    }
   ],
   "source": [
    "sns.lineplot(data = df, x = \"ac\", y = \"hp\")"
   ]
  },
  {
   "cell_type": "code",
   "execution_count": 47,
   "metadata": {},
   "outputs": [
    {
     "data": {
      "text/plain": [
       "14.57742782152231"
      ]
     },
     "execution_count": 47,
     "metadata": {},
     "output_type": "execute_result"
    }
   ],
   "source": [
    "media_ac = df[\"ac\"].mean()\n",
    "media_ac"
   ]
  },
  {
   "cell_type": "code",
   "execution_count": 48,
   "metadata": {},
   "outputs": [
    {
     "data": {
      "text/plain": [
       "25"
      ]
     },
     "execution_count": 48,
     "metadata": {},
     "output_type": "execute_result"
    }
   ],
   "source": [
    "max_ac = df[\"ac\"].max()\n",
    "max_ac"
   ]
  },
  {
   "cell_type": "code",
   "execution_count": 49,
   "metadata": {},
   "outputs": [
    {
     "data": {
      "text/plain": [
       "0"
      ]
     },
     "execution_count": 49,
     "metadata": {},
     "output_type": "execute_result"
    }
   ],
   "source": [
    "min_ac = df[\"ac\"].min()\n",
    "min_ac"
   ]
  },
  {
   "cell_type": "code",
   "execution_count": 50,
   "metadata": {},
   "outputs": [],
   "source": [
    "df_ac = df[\"ac\"]"
   ]
  },
  {
   "cell_type": "code",
   "execution_count": 51,
   "metadata": {},
   "outputs": [
    {
     "data": {
      "text/plain": [
       "count    762.000000\n",
       "mean      14.577428\n",
       "std        3.140581\n",
       "min        0.000000\n",
       "25%       12.000000\n",
       "50%       14.000000\n",
       "75%       17.000000\n",
       "max       25.000000\n",
       "Name: ac, dtype: float64"
      ]
     },
     "execution_count": 51,
     "metadata": {},
     "output_type": "execute_result"
    }
   ],
   "source": [
    "df_ac.describe()"
   ]
  }
 ],
 "metadata": {
  "kernelspec": {
   "display_name": "base",
   "language": "python",
   "name": "python3"
  },
  "language_info": {
   "codemirror_mode": {
    "name": "ipython",
    "version": 3
   },
   "file_extension": ".py",
   "mimetype": "text/x-python",
   "name": "python",
   "nbconvert_exporter": "python",
   "pygments_lexer": "ipython3",
   "version": "3.9.7"
  },
  "orig_nbformat": 4,
  "vscode": {
   "interpreter": {
    "hash": "f2db153c52986c069ff377292b192106e7e0a1a0b98e4459b9b4cabd3fa94ab4"
   }
  }
 },
 "nbformat": 4,
 "nbformat_minor": 2
}
